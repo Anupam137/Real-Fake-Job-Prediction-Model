{
 "cells": [
  {
   "cell_type": "code",
   "execution_count": 1,
   "id": "34bffc13",
   "metadata": {
    "_cell_guid": "b1076dfc-b9ad-4769-8c92-a6c4dae69d19",
    "_uuid": "8f2839f25d086af736a60e9eeb907d3b93b6e0e5",
    "papermill": {
     "duration": 5.703885,
     "end_time": "2023-11-21T11:17:48.589058",
     "exception": false,
     "start_time": "2023-11-21T11:17:42.885173",
     "status": "completed"
    },
    "tags": []
   },
   "outputs": [
    {
     "name": "stdout",
     "output_type": "stream",
     "text": [
      "WARNING:tensorflow:From C:\\Users\\Anupam\\miniconda3\\Lib\\site-packages\\keras\\src\\losses.py:2976: The name tf.losses.sparse_softmax_cross_entropy is deprecated. Please use tf.compat.v1.losses.sparse_softmax_cross_entropy instead.\n",
      "\n"
     ]
    }
   ],
   "source": [
    "# This Python 3 environment comes with many helpful analytics libraries installed\n",
    "# It is defined by the kaggle/python Docker image: https://github.com/kaggle/docker-python\n",
    "# For example, here's several helpful packages to load\n",
    "\n",
    "import numpy as np # linear algebra\n",
    "import pandas as pd # data processing, CSV file I/O (e.g. pd.read_csv)\n",
    "from tensorflow.keras.layers import Dense, GRU, Embedding\n",
    "\n",
    "# Input data files are available in the read-only \"../input/\" directory\n",
    "# For example, running this (by clicking run or pressing Shift+Enter) will list all files under the input directory\n",
    "\n",
    "import os\n",
    "for dirname, _, filenames in os.walk('/kaggle/input'):\n",
    "    for filename in filenames:\n",
    "        print(os.path.join(dirname, filename))\n",
    "\n",
    "# You can write up to 20GB to the current directory (/kaggle/working/) that gets preserved as output when you create a version using \"Save & Run All\" \n",
    "# You can also write temporary files to /kaggle/temp/, but they won't be saved outside of the current session"
   ]
  },
  {
   "cell_type": "code",
   "execution_count": 2,
   "id": "9ee025fb",
   "metadata": {
    "papermill": {
     "duration": 1.271791,
     "end_time": "2023-11-21T11:17:49.902259",
     "exception": false,
     "start_time": "2023-11-21T11:17:48.630468",
     "status": "completed"
    },
    "tags": []
   },
   "outputs": [],
   "source": [
    "df1 = pd.read_csv('fake_job_postings1.csv')"
   ]
  },
  {
   "cell_type": "code",
   "execution_count": 3,
   "id": "9c29c9b2",
   "metadata": {
    "papermill": {
     "duration": 0.070858,
     "end_time": "2023-11-21T11:17:50.010459",
     "exception": false,
     "start_time": "2023-11-21T11:17:49.939601",
     "status": "completed"
    },
    "tags": []
   },
   "outputs": [
    {
     "data": {
      "text/html": [
       "<div>\n",
       "<style scoped>\n",
       "    .dataframe tbody tr th:only-of-type {\n",
       "        vertical-align: middle;\n",
       "    }\n",
       "\n",
       "    .dataframe tbody tr th {\n",
       "        vertical-align: top;\n",
       "    }\n",
       "\n",
       "    .dataframe thead th {\n",
       "        text-align: right;\n",
       "    }\n",
       "</style>\n",
       "<table border=\"1\" class=\"dataframe\">\n",
       "  <thead>\n",
       "    <tr style=\"text-align: right;\">\n",
       "      <th></th>\n",
       "      <th>job_id</th>\n",
       "      <th>title</th>\n",
       "      <th>location</th>\n",
       "      <th>department</th>\n",
       "      <th>salary_range</th>\n",
       "      <th>company_profile</th>\n",
       "      <th>description</th>\n",
       "      <th>requirements</th>\n",
       "      <th>benefits</th>\n",
       "      <th>telecommuting</th>\n",
       "      <th>has_company_logo</th>\n",
       "      <th>has_questions</th>\n",
       "      <th>employment_type</th>\n",
       "      <th>required_experience</th>\n",
       "      <th>required_education</th>\n",
       "      <th>industry</th>\n",
       "      <th>function</th>\n",
       "      <th>fraudulent</th>\n",
       "    </tr>\n",
       "  </thead>\n",
       "  <tbody>\n",
       "    <tr>\n",
       "      <th>0</th>\n",
       "      <td>1</td>\n",
       "      <td>Marketing Intern</td>\n",
       "      <td>US, NY, New York</td>\n",
       "      <td>Marketing</td>\n",
       "      <td>NaN</td>\n",
       "      <td>We're Food52, and we've created a groundbreaki...</td>\n",
       "      <td>Food52, a fast-growing, James Beard Award-winn...</td>\n",
       "      <td>Experience with content management systems a m...</td>\n",
       "      <td>NaN</td>\n",
       "      <td>0</td>\n",
       "      <td>1</td>\n",
       "      <td>0</td>\n",
       "      <td>Other</td>\n",
       "      <td>Internship</td>\n",
       "      <td>NaN</td>\n",
       "      <td>NaN</td>\n",
       "      <td>Marketing</td>\n",
       "      <td>0</td>\n",
       "    </tr>\n",
       "    <tr>\n",
       "      <th>1</th>\n",
       "      <td>2</td>\n",
       "      <td>Customer Service - Cloud Video Production</td>\n",
       "      <td>NZ, , Auckland</td>\n",
       "      <td>Success</td>\n",
       "      <td>NaN</td>\n",
       "      <td>90 Seconds, the worlds Cloud Video Production ...</td>\n",
       "      <td>Organised - Focused - Vibrant - Awesome!Do you...</td>\n",
       "      <td>What we expect from you:Your key responsibilit...</td>\n",
       "      <td>What you will get from usThrough being part of...</td>\n",
       "      <td>0</td>\n",
       "      <td>1</td>\n",
       "      <td>0</td>\n",
       "      <td>Full-time</td>\n",
       "      <td>Not Applicable</td>\n",
       "      <td>NaN</td>\n",
       "      <td>Marketing and Advertising</td>\n",
       "      <td>Customer Service</td>\n",
       "      <td>0</td>\n",
       "    </tr>\n",
       "    <tr>\n",
       "      <th>2</th>\n",
       "      <td>3</td>\n",
       "      <td>Commissioning Machinery Assistant (CMA)</td>\n",
       "      <td>US, IA, Wever</td>\n",
       "      <td>NaN</td>\n",
       "      <td>NaN</td>\n",
       "      <td>Valor Services provides Workforce Solutions th...</td>\n",
       "      <td>Our client, located in Houston, is actively se...</td>\n",
       "      <td>Implement pre-commissioning and commissioning ...</td>\n",
       "      <td>NaN</td>\n",
       "      <td>0</td>\n",
       "      <td>1</td>\n",
       "      <td>0</td>\n",
       "      <td>NaN</td>\n",
       "      <td>NaN</td>\n",
       "      <td>NaN</td>\n",
       "      <td>NaN</td>\n",
       "      <td>NaN</td>\n",
       "      <td>0</td>\n",
       "    </tr>\n",
       "    <tr>\n",
       "      <th>3</th>\n",
       "      <td>4</td>\n",
       "      <td>Account Executive - Washington DC</td>\n",
       "      <td>US, DC, Washington</td>\n",
       "      <td>Sales</td>\n",
       "      <td>NaN</td>\n",
       "      <td>Our passion for improving quality of life thro...</td>\n",
       "      <td>THE COMPANY: ESRI – Environmental Systems Rese...</td>\n",
       "      <td>EDUCATION: Bachelor’s or Master’s in GIS, busi...</td>\n",
       "      <td>Our culture is anything but corporate—we have ...</td>\n",
       "      <td>0</td>\n",
       "      <td>1</td>\n",
       "      <td>0</td>\n",
       "      <td>Full-time</td>\n",
       "      <td>Mid-Senior level</td>\n",
       "      <td>Bachelor's Degree</td>\n",
       "      <td>Computer Software</td>\n",
       "      <td>Sales</td>\n",
       "      <td>0</td>\n",
       "    </tr>\n",
       "    <tr>\n",
       "      <th>4</th>\n",
       "      <td>5</td>\n",
       "      <td>Bill Review Manager</td>\n",
       "      <td>US, FL, Fort Worth</td>\n",
       "      <td>NaN</td>\n",
       "      <td>NaN</td>\n",
       "      <td>SpotSource Solutions LLC is a Global Human Cap...</td>\n",
       "      <td>JOB TITLE: Itemization Review ManagerLOCATION:...</td>\n",
       "      <td>QUALIFICATIONS:RN license in the State of Texa...</td>\n",
       "      <td>Full Benefits Offered</td>\n",
       "      <td>0</td>\n",
       "      <td>1</td>\n",
       "      <td>1</td>\n",
       "      <td>Full-time</td>\n",
       "      <td>Mid-Senior level</td>\n",
       "      <td>Bachelor's Degree</td>\n",
       "      <td>Hospital &amp; Health Care</td>\n",
       "      <td>Health Care Provider</td>\n",
       "      <td>0</td>\n",
       "    </tr>\n",
       "  </tbody>\n",
       "</table>\n",
       "</div>"
      ],
      "text/plain": [
       "   job_id                                      title            location  \\\n",
       "0       1                           Marketing Intern    US, NY, New York   \n",
       "1       2  Customer Service - Cloud Video Production      NZ, , Auckland   \n",
       "2       3    Commissioning Machinery Assistant (CMA)       US, IA, Wever   \n",
       "3       4          Account Executive - Washington DC  US, DC, Washington   \n",
       "4       5                        Bill Review Manager  US, FL, Fort Worth   \n",
       "\n",
       "  department salary_range                                    company_profile  \\\n",
       "0  Marketing          NaN  We're Food52, and we've created a groundbreaki...   \n",
       "1    Success          NaN  90 Seconds, the worlds Cloud Video Production ...   \n",
       "2        NaN          NaN  Valor Services provides Workforce Solutions th...   \n",
       "3      Sales          NaN  Our passion for improving quality of life thro...   \n",
       "4        NaN          NaN  SpotSource Solutions LLC is a Global Human Cap...   \n",
       "\n",
       "                                         description  \\\n",
       "0  Food52, a fast-growing, James Beard Award-winn...   \n",
       "1  Organised - Focused - Vibrant - Awesome!Do you...   \n",
       "2  Our client, located in Houston, is actively se...   \n",
       "3  THE COMPANY: ESRI – Environmental Systems Rese...   \n",
       "4  JOB TITLE: Itemization Review ManagerLOCATION:...   \n",
       "\n",
       "                                        requirements  \\\n",
       "0  Experience with content management systems a m...   \n",
       "1  What we expect from you:Your key responsibilit...   \n",
       "2  Implement pre-commissioning and commissioning ...   \n",
       "3  EDUCATION: Bachelor’s or Master’s in GIS, busi...   \n",
       "4  QUALIFICATIONS:RN license in the State of Texa...   \n",
       "\n",
       "                                            benefits  telecommuting  \\\n",
       "0                                                NaN              0   \n",
       "1  What you will get from usThrough being part of...              0   \n",
       "2                                                NaN              0   \n",
       "3  Our culture is anything but corporate—we have ...              0   \n",
       "4                              Full Benefits Offered              0   \n",
       "\n",
       "   has_company_logo  has_questions employment_type required_experience  \\\n",
       "0                 1              0           Other          Internship   \n",
       "1                 1              0       Full-time      Not Applicable   \n",
       "2                 1              0             NaN                 NaN   \n",
       "3                 1              0       Full-time    Mid-Senior level   \n",
       "4                 1              1       Full-time    Mid-Senior level   \n",
       "\n",
       "  required_education                   industry              function  \\\n",
       "0                NaN                        NaN             Marketing   \n",
       "1                NaN  Marketing and Advertising      Customer Service   \n",
       "2                NaN                        NaN                   NaN   \n",
       "3  Bachelor's Degree          Computer Software                 Sales   \n",
       "4  Bachelor's Degree     Hospital & Health Care  Health Care Provider   \n",
       "\n",
       "   fraudulent  \n",
       "0           0  \n",
       "1           0  \n",
       "2           0  \n",
       "3           0  \n",
       "4           0  "
      ]
     },
     "execution_count": 3,
     "metadata": {},
     "output_type": "execute_result"
    }
   ],
   "source": [
    "df1.head()"
   ]
  },
  {
   "cell_type": "code",
   "execution_count": 4,
   "id": "1ff94a7b",
   "metadata": {
    "papermill": {
     "duration": 0.047631,
     "end_time": "2023-11-21T11:17:50.097530",
     "exception": false,
     "start_time": "2023-11-21T11:17:50.049899",
     "status": "completed"
    },
    "tags": []
   },
   "outputs": [
    {
     "data": {
      "text/plain": [
       "(17880, 18)"
      ]
     },
     "execution_count": 4,
     "metadata": {},
     "output_type": "execute_result"
    }
   ],
   "source": [
    "df1.shape"
   ]
  },
  {
   "cell_type": "code",
   "execution_count": 5,
   "id": "3fb4125f",
   "metadata": {
    "papermill": {
     "duration": 0.05989,
     "end_time": "2023-11-21T11:17:50.196055",
     "exception": false,
     "start_time": "2023-11-21T11:17:50.136165",
     "status": "completed"
    },
    "tags": []
   },
   "outputs": [
    {
     "data": {
      "text/html": [
       "<div>\n",
       "<style scoped>\n",
       "    .dataframe tbody tr th:only-of-type {\n",
       "        vertical-align: middle;\n",
       "    }\n",
       "\n",
       "    .dataframe tbody tr th {\n",
       "        vertical-align: top;\n",
       "    }\n",
       "\n",
       "    .dataframe thead th {\n",
       "        text-align: right;\n",
       "    }\n",
       "</style>\n",
       "<table border=\"1\" class=\"dataframe\">\n",
       "  <thead>\n",
       "    <tr style=\"text-align: right;\">\n",
       "      <th></th>\n",
       "      <th>description</th>\n",
       "      <th>requirements</th>\n",
       "      <th>fraudulent</th>\n",
       "    </tr>\n",
       "  </thead>\n",
       "  <tbody>\n",
       "    <tr>\n",
       "      <th>0</th>\n",
       "      <td>Food52, a fast-growing, James Beard Award-winn...</td>\n",
       "      <td>Experience with content management systems a m...</td>\n",
       "      <td>0</td>\n",
       "    </tr>\n",
       "    <tr>\n",
       "      <th>1</th>\n",
       "      <td>Organised - Focused - Vibrant - Awesome!Do you...</td>\n",
       "      <td>What we expect from you:Your key responsibilit...</td>\n",
       "      <td>0</td>\n",
       "    </tr>\n",
       "    <tr>\n",
       "      <th>2</th>\n",
       "      <td>Our client, located in Houston, is actively se...</td>\n",
       "      <td>Implement pre-commissioning and commissioning ...</td>\n",
       "      <td>0</td>\n",
       "    </tr>\n",
       "    <tr>\n",
       "      <th>3</th>\n",
       "      <td>THE COMPANY: ESRI – Environmental Systems Rese...</td>\n",
       "      <td>EDUCATION: Bachelor’s or Master’s in GIS, busi...</td>\n",
       "      <td>0</td>\n",
       "    </tr>\n",
       "    <tr>\n",
       "      <th>4</th>\n",
       "      <td>JOB TITLE: Itemization Review ManagerLOCATION:...</td>\n",
       "      <td>QUALIFICATIONS:RN license in the State of Texa...</td>\n",
       "      <td>0</td>\n",
       "    </tr>\n",
       "  </tbody>\n",
       "</table>\n",
       "</div>"
      ],
      "text/plain": [
       "                                         description  \\\n",
       "0  Food52, a fast-growing, James Beard Award-winn...   \n",
       "1  Organised - Focused - Vibrant - Awesome!Do you...   \n",
       "2  Our client, located in Houston, is actively se...   \n",
       "3  THE COMPANY: ESRI – Environmental Systems Rese...   \n",
       "4  JOB TITLE: Itemization Review ManagerLOCATION:...   \n",
       "\n",
       "                                        requirements  fraudulent  \n",
       "0  Experience with content management systems a m...           0  \n",
       "1  What we expect from you:Your key responsibilit...           0  \n",
       "2  Implement pre-commissioning and commissioning ...           0  \n",
       "3  EDUCATION: Bachelor’s or Master’s in GIS, busi...           0  \n",
       "4  QUALIFICATIONS:RN license in the State of Texa...           0  "
      ]
     },
     "execution_count": 5,
     "metadata": {},
     "output_type": "execute_result"
    }
   ],
   "source": [
    "df=df1[['description','requirements','fraudulent']]\n",
    "df.head()"
   ]
  },
  {
   "cell_type": "code",
   "execution_count": 6,
   "id": "11e996dc",
   "metadata": {
    "papermill": {
     "duration": 0.058503,
     "end_time": "2023-11-21T11:17:50.293670",
     "exception": false,
     "start_time": "2023-11-21T11:17:50.235167",
     "status": "completed"
    },
    "tags": []
   },
   "outputs": [],
   "source": [
    "###Drop Nan Values\n",
    "df=df.dropna()"
   ]
  },
  {
   "cell_type": "code",
   "execution_count": 7,
   "id": "7b59e594",
   "metadata": {
    "papermill": {
     "duration": 0.048132,
     "end_time": "2023-11-21T11:17:50.380910",
     "exception": false,
     "start_time": "2023-11-21T11:17:50.332778",
     "status": "completed"
    },
    "tags": []
   },
   "outputs": [
    {
     "data": {
      "text/plain": [
       "(15184, 3)"
      ]
     },
     "execution_count": 7,
     "metadata": {},
     "output_type": "execute_result"
    }
   ],
   "source": [
    "df.shape"
   ]
  },
  {
   "cell_type": "code",
   "execution_count": 8,
   "id": "22c00e10",
   "metadata": {
    "papermill": {
     "duration": 0.057463,
     "end_time": "2023-11-21T11:17:50.477237",
     "exception": false,
     "start_time": "2023-11-21T11:17:50.419774",
     "status": "completed"
    },
    "tags": []
   },
   "outputs": [
    {
     "data": {
      "text/html": [
       "<div>\n",
       "<style scoped>\n",
       "    .dataframe tbody tr th:only-of-type {\n",
       "        vertical-align: middle;\n",
       "    }\n",
       "\n",
       "    .dataframe tbody tr th {\n",
       "        vertical-align: top;\n",
       "    }\n",
       "\n",
       "    .dataframe thead th {\n",
       "        text-align: right;\n",
       "    }\n",
       "</style>\n",
       "<table border=\"1\" class=\"dataframe\">\n",
       "  <thead>\n",
       "    <tr style=\"text-align: right;\">\n",
       "      <th></th>\n",
       "      <th>description</th>\n",
       "      <th>requirements</th>\n",
       "    </tr>\n",
       "  </thead>\n",
       "  <tbody>\n",
       "    <tr>\n",
       "      <th>14954</th>\n",
       "      <td>We’re looking for a talented #URL_01a736d89d2f...</td>\n",
       "      <td>Expert C# coding skillsFront-end application d...</td>\n",
       "    </tr>\n",
       "    <tr>\n",
       "      <th>13705</th>\n",
       "      <td>The Driver I position will be based in our Wes...</td>\n",
       "      <td>Qualifications:Must have 6 months customer ser...</td>\n",
       "    </tr>\n",
       "    <tr>\n",
       "      <th>10789</th>\n",
       "      <td>The Technical Site Representative will be base...</td>\n",
       "      <td>Qualifications:Minimum of 6 months customer se...</td>\n",
       "    </tr>\n",
       "    <tr>\n",
       "      <th>14047</th>\n",
       "      <td>The Customer Service Associate will be based i...</td>\n",
       "      <td>Required qualifications:Minimum of 6 months cu...</td>\n",
       "    </tr>\n",
       "    <tr>\n",
       "      <th>2377</th>\n",
       "      <td>About Us:We are Ridogulous Labs, a hardware/so...</td>\n",
       "      <td>About You:You eat, sleep and breathe social me...</td>\n",
       "    </tr>\n",
       "  </tbody>\n",
       "</table>\n",
       "</div>"
      ],
      "text/plain": [
       "                                             description  \\\n",
       "14954  We’re looking for a talented #URL_01a736d89d2f...   \n",
       "13705  The Driver I position will be based in our Wes...   \n",
       "10789  The Technical Site Representative will be base...   \n",
       "14047  The Customer Service Associate will be based i...   \n",
       "2377   About Us:We are Ridogulous Labs, a hardware/so...   \n",
       "\n",
       "                                            requirements  \n",
       "14954  Expert C# coding skillsFront-end application d...  \n",
       "13705  Qualifications:Must have 6 months customer ser...  \n",
       "10789  Qualifications:Minimum of 6 months customer se...  \n",
       "14047  Required qualifications:Minimum of 6 months cu...  \n",
       "2377   About You:You eat, sleep and breathe social me...  "
      ]
     },
     "execution_count": 8,
     "metadata": {},
     "output_type": "execute_result"
    }
   ],
   "source": [
    "## Get the Independent Features\n",
    "\n",
    "X=df.drop('fraudulent',axis=1)\n",
    "X.shape\n",
    "X.sample(5)"
   ]
  },
  {
   "cell_type": "code",
   "execution_count": 9,
   "id": "a7299fd7",
   "metadata": {
    "papermill": {
     "duration": 0.052002,
     "end_time": "2023-11-21T11:17:50.569232",
     "exception": false,
     "start_time": "2023-11-21T11:17:50.517230",
     "status": "completed"
    },
    "tags": []
   },
   "outputs": [
    {
     "data": {
      "text/plain": [
       "(15184,)"
      ]
     },
     "execution_count": 9,
     "metadata": {},
     "output_type": "execute_result"
    }
   ],
   "source": [
    "## Get the Dependent features\n",
    "y=df['fraudulent']\n",
    "y.shape"
   ]
  },
  {
   "cell_type": "code",
   "execution_count": 10,
   "id": "b1232f62",
   "metadata": {
    "papermill": {
     "duration": 0.050761,
     "end_time": "2023-11-21T11:17:50.661637",
     "exception": false,
     "start_time": "2023-11-21T11:17:50.610876",
     "status": "completed"
    },
    "tags": []
   },
   "outputs": [
    {
     "data": {
      "text/plain": [
       "9282     0\n",
       "9384     0\n",
       "17143    1\n",
       "8451     0\n",
       "10103    0\n",
       "Name: fraudulent, dtype: int64"
      ]
     },
     "execution_count": 10,
     "metadata": {},
     "output_type": "execute_result"
    }
   ],
   "source": [
    "y.sample(5)"
   ]
  },
  {
   "cell_type": "code",
   "execution_count": 11,
   "id": "94f43855",
   "metadata": {
    "papermill": {
     "duration": 0.052447,
     "end_time": "2023-11-21T11:17:50.755152",
     "exception": false,
     "start_time": "2023-11-21T11:17:50.702705",
     "status": "completed"
    },
    "tags": []
   },
   "outputs": [
    {
     "data": {
      "text/plain": [
       "fraudulent\n",
       "0    14472\n",
       "1      712\n",
       "Name: count, dtype: int64"
      ]
     },
     "execution_count": 11,
     "metadata": {},
     "output_type": "execute_result"
    }
   ],
   "source": [
    "y.value_counts()"
   ]
  },
  {
   "cell_type": "code",
   "execution_count": 12,
   "id": "77c0670d",
   "metadata": {
    "papermill": {
     "duration": 0.049121,
     "end_time": "2023-11-21T11:17:50.845248",
     "exception": false,
     "start_time": "2023-11-21T11:17:50.796127",
     "status": "completed"
    },
    "tags": []
   },
   "outputs": [
    {
     "data": {
      "text/plain": [
       "'2.15.0'"
      ]
     },
     "execution_count": 12,
     "metadata": {},
     "output_type": "execute_result"
    }
   ],
   "source": [
    "import tensorflow as tf\n",
    "tf.__version__"
   ]
  },
  {
   "cell_type": "code",
   "execution_count": 13,
   "id": "4f87b972",
   "metadata": {
    "papermill": {
     "duration": 0.05003,
     "end_time": "2023-11-21T11:17:50.936208",
     "exception": false,
     "start_time": "2023-11-21T11:17:50.886178",
     "status": "completed"
    },
    "tags": []
   },
   "outputs": [],
   "source": [
    "from tensorflow.keras.layers import Embedding\n",
    "from tensorflow.keras.preprocessing.sequence import pad_sequences\n",
    "from tensorflow.keras.models import Sequential\n",
    "from tensorflow.keras.preprocessing.text import one_hot\n",
    "from tensorflow.keras.layers import LSTM\n",
    "from tensorflow.keras.layers import Dense\n",
    "from tensorflow.keras.layers import Bidirectional\n",
    "from tensorflow.keras.layers import Dropout"
   ]
  },
  {
   "cell_type": "code",
   "execution_count": 14,
   "id": "7f6267db",
   "metadata": {
    "papermill": {
     "duration": 0.048037,
     "end_time": "2023-11-21T11:17:51.025466",
     "exception": false,
     "start_time": "2023-11-21T11:17:50.977429",
     "status": "completed"
    },
    "tags": []
   },
   "outputs": [],
   "source": [
    "voc_size=5000"
   ]
  },
  {
   "cell_type": "markdown",
   "id": "0371efb8",
   "metadata": {
    "papermill": {
     "duration": 0.040895,
     "end_time": "2023-11-21T11:17:51.107765",
     "exception": false,
     "start_time": "2023-11-21T11:17:51.066870",
     "status": "completed"
    },
    "tags": []
   },
   "source": [
    ">  ****One-hot Representation****"
   ]
  },
  {
   "cell_type": "code",
   "execution_count": 15,
   "id": "b494a84a",
   "metadata": {
    "papermill": {
     "duration": 0.054651,
     "end_time": "2023-11-21T11:17:51.203425",
     "exception": false,
     "start_time": "2023-11-21T11:17:51.148774",
     "status": "completed"
    },
    "tags": []
   },
   "outputs": [
    {
     "data": {
      "text/html": [
       "<div>\n",
       "<style scoped>\n",
       "    .dataframe tbody tr th:only-of-type {\n",
       "        vertical-align: middle;\n",
       "    }\n",
       "\n",
       "    .dataframe tbody tr th {\n",
       "        vertical-align: top;\n",
       "    }\n",
       "\n",
       "    .dataframe thead th {\n",
       "        text-align: right;\n",
       "    }\n",
       "</style>\n",
       "<table border=\"1\" class=\"dataframe\">\n",
       "  <thead>\n",
       "    <tr style=\"text-align: right;\">\n",
       "      <th></th>\n",
       "      <th>description</th>\n",
       "      <th>requirements</th>\n",
       "    </tr>\n",
       "  </thead>\n",
       "  <tbody>\n",
       "    <tr>\n",
       "      <th>0</th>\n",
       "      <td>Food52, a fast-growing, James Beard Award-winn...</td>\n",
       "      <td>Experience with content management systems a m...</td>\n",
       "    </tr>\n",
       "    <tr>\n",
       "      <th>1</th>\n",
       "      <td>Organised - Focused - Vibrant - Awesome!Do you...</td>\n",
       "      <td>What we expect from you:Your key responsibilit...</td>\n",
       "    </tr>\n",
       "    <tr>\n",
       "      <th>2</th>\n",
       "      <td>Our client, located in Houston, is actively se...</td>\n",
       "      <td>Implement pre-commissioning and commissioning ...</td>\n",
       "    </tr>\n",
       "    <tr>\n",
       "      <th>3</th>\n",
       "      <td>THE COMPANY: ESRI – Environmental Systems Rese...</td>\n",
       "      <td>EDUCATION: Bachelor’s or Master’s in GIS, busi...</td>\n",
       "    </tr>\n",
       "    <tr>\n",
       "      <th>4</th>\n",
       "      <td>JOB TITLE: Itemization Review ManagerLOCATION:...</td>\n",
       "      <td>QUALIFICATIONS:RN license in the State of Texa...</td>\n",
       "    </tr>\n",
       "  </tbody>\n",
       "</table>\n",
       "</div>"
      ],
      "text/plain": [
       "                                         description  \\\n",
       "0  Food52, a fast-growing, James Beard Award-winn...   \n",
       "1  Organised - Focused - Vibrant - Awesome!Do you...   \n",
       "2  Our client, located in Houston, is actively se...   \n",
       "3  THE COMPANY: ESRI – Environmental Systems Rese...   \n",
       "4  JOB TITLE: Itemization Review ManagerLOCATION:...   \n",
       "\n",
       "                                        requirements  \n",
       "0  Experience with content management systems a m...  \n",
       "1  What we expect from you:Your key responsibilit...  \n",
       "2  Implement pre-commissioning and commissioning ...  \n",
       "3  EDUCATION: Bachelor’s or Master’s in GIS, busi...  \n",
       "4  QUALIFICATIONS:RN license in the State of Texa...  "
      ]
     },
     "execution_count": 15,
     "metadata": {},
     "output_type": "execute_result"
    }
   ],
   "source": [
    "message = X.copy()\n",
    "message.head()"
   ]
  },
  {
   "cell_type": "code",
   "execution_count": 16,
   "id": "8f70feb6",
   "metadata": {
    "papermill": {
     "duration": 0.050447,
     "end_time": "2023-11-21T11:17:51.295508",
     "exception": false,
     "start_time": "2023-11-21T11:17:51.245061",
     "status": "completed"
    },
    "tags": []
   },
   "outputs": [
    {
     "data": {
      "text/plain": [
       "\"Organised - Focused - Vibrant - Awesome!Do you have a passion for customer service? Slick typing skills? Maybe Account Management? ...And think administration is cooler than a polar bear on a jetski? Then we need to hear you!\\xa0We are the Cloud Video Production Service and opperating on a glodal level. Yeah, it's pretty cool. Serious about\\xa0delivering a world class product and excellent customer service.Our rapidly expanding business is looking for a talented Project Manager to manage the successful delivery of video projects, manage client communications and drive the production process. Work with some of the coolest brands on the planet and learn from a global team that are representing NZ is a huge way!We are entering the next growth stage of our business and growing quickly internationally. \\xa0Therefore, the position is bursting with opportunity for the right person entering the business at the right time.\\xa090 Seconds, the worlds Cloud Video Production Service -\\xa0http://90#URL_fbe6559afac620a3cd2c22281f7b8d0eef56a73e3d9a311e2f1ca13d081dd630#90 Seconds is the worlds Cloud Video Production Service enabling brands and agencies to get high quality online video content shot and produced anywhere in the world. Fast, affordable, and all managed seamlessly in the cloud from purchase to publish.\\xa090 Seconds removes the hassle, cost, risk and speed issues of working with regular video production companies by managing every aspect of video projects in a beautiful online experience. \\xa0With a growing network of over 2,000 rated video professionals in over 50 countries and dedicated production success teams in 5 countries guaranteeing video project success 100%. It's as easy as commissioning a quick google adwords campaign.90 Seconds has produced almost 4,000 videos in over 30 Countries for over 500 Global brands including some of the worlds largest including Paypal, L'oreal, Sony and Barclays and has offices in Auckland, London, Sydney, Tokyo &amp; Singapore.Our Auckland office is based\\xa0right in the heart of the Wynyard Quarter Innovation Precinct - GridAKL!\\xa0\""
      ]
     },
     "execution_count": 16,
     "metadata": {},
     "output_type": "execute_result"
    }
   ],
   "source": [
    "message['description'][1]\n",
    "# message['description'][1]"
   ]
  },
  {
   "cell_type": "markdown",
   "id": "65cefb58",
   "metadata": {
    "papermill": {
     "duration": 0.041392,
     "end_time": "2023-11-21T11:17:51.378724",
     "exception": false,
     "start_time": "2023-11-21T11:17:51.337332",
     "status": "completed"
    },
    "tags": []
   },
   "source": []
  },
  {
   "cell_type": "code",
   "execution_count": 17,
   "id": "ac4297b7",
   "metadata": {
    "papermill": {
     "duration": 0.051856,
     "end_time": "2023-11-21T11:17:51.473054",
     "exception": false,
     "start_time": "2023-11-21T11:17:51.421198",
     "status": "completed"
    },
    "tags": []
   },
   "outputs": [],
   "source": [
    "message.reset_index(inplace=True)"
   ]
  },
  {
   "cell_type": "code",
   "execution_count": 18,
   "id": "05f1eb48",
   "metadata": {
    "papermill": {
     "duration": 1.406584,
     "end_time": "2023-11-21T11:17:52.922035",
     "exception": false,
     "start_time": "2023-11-21T11:17:51.515451",
     "status": "completed"
    },
    "tags": []
   },
   "outputs": [],
   "source": [
    "import nltk\n",
    "import re\n",
    "from nltk.corpus import stopwords"
   ]
  },
  {
   "cell_type": "code",
   "execution_count": 19,
   "id": "8cc624f6",
   "metadata": {
    "papermill": {
     "duration": 20.091545,
     "end_time": "2023-11-21T11:18:13.055334",
     "exception": false,
     "start_time": "2023-11-21T11:17:52.963789",
     "status": "completed"
    },
    "tags": []
   },
   "outputs": [
    {
     "name": "stderr",
     "output_type": "stream",
     "text": [
      "[nltk_data] Downloading package stopwords to\n",
      "[nltk_data]     C:\\Users\\Anupam\\AppData\\Roaming\\nltk_data...\n",
      "[nltk_data]   Package stopwords is already up-to-date!\n"
     ]
    },
    {
     "data": {
      "text/plain": [
       "True"
      ]
     },
     "execution_count": 19,
     "metadata": {},
     "output_type": "execute_result"
    }
   ],
   "source": [
    "nltk.download('stopwords')"
   ]
  },
  {
   "cell_type": "code",
   "execution_count": 47,
   "id": "30a880ca",
   "metadata": {
    "papermill": {
     "duration": 439.510435,
     "end_time": "2023-11-21T11:25:32.608519",
     "exception": false,
     "start_time": "2023-11-21T11:18:13.098084",
     "status": "completed"
    },
    "tags": []
   },
   "outputs": [],
   "source": [
    "from nltk.stem.porter import PorterStemmer\n",
    "ps = PorterStemmer()\n",
    "corpus = []\n",
    "for i in range(0, len(message)):\n",
    "    review = re.sub('[^a-zA-Z]', ' ', message['description'][i])\n",
    "    review = review.lower()\n",
    "    review = review.split()\n",
    "    \n",
    "    review = [ps.stem(word) for word in review if not word in stopwords.words('english')]\n",
    "    review = ' '.join(review)\n",
    "    corpus.append(review)"
   ]
  },
  {
   "cell_type": "code",
   "execution_count": 21,
   "id": "00b6bd7f",
   "metadata": {
    "papermill": {
     "duration": 0.051747,
     "end_time": "2023-11-21T11:25:32.703789",
     "exception": false,
     "start_time": "2023-11-21T11:25:32.652042",
     "status": "completed"
    },
    "tags": []
   },
   "outputs": [
    {
     "data": {
      "text/plain": [
       "'organis focus vibrant awesom passion custom servic slick type skill mayb account manag think administr cooler polar bear jetski need hear cloud video product servic opper glodal level yeah pretti cool seriou deliv world class product excel custom servic rapidli expand busi look talent project manag manag success deliveri video project manag client commun drive product process work coolest brand planet learn global team repres nz huge way enter next growth stage busi grow quickli intern therefor posit burst opportun right person enter busi right time second world cloud video product servic http url fbe afac cd c f b eef e e f ca dd second world cloud video product servic enabl brand agenc get high qualiti onlin video content shot produc anywher world fast afford manag seamlessli cloud purchas publish second remov hassl cost risk speed issu work regular video product compani manag everi aspect video project beauti onlin experi grow network rate video profession countri dedic product success team countri guarante video project success easi commiss quick googl adword campaign second produc almost video countri global brand includ world largest includ paypal l oreal soni barclay offic auckland london sydney tokyo amp singapor auckland offic base right heart wynyard quarter innov precinct gridakl'"
      ]
     },
     "execution_count": 21,
     "metadata": {},
     "output_type": "execute_result"
    }
   ],
   "source": [
    "corpus[1]"
   ]
  },
  {
   "cell_type": "code",
   "execution_count": 22,
   "id": "296efb18",
   "metadata": {
    "papermill": {
     "duration": 1.07686,
     "end_time": "2023-11-21T11:25:33.824364",
     "exception": false,
     "start_time": "2023-11-21T11:25:32.747504",
     "status": "completed"
    },
    "tags": []
   },
   "outputs": [
    {
     "data": {
      "text/plain": [
       "[3481,\n",
       " 1990,\n",
       " 292,\n",
       " 4609,\n",
       " 3513,\n",
       " 396,\n",
       " 4967,\n",
       " 1800,\n",
       " 4359,\n",
       " 4739,\n",
       " 1680,\n",
       " 369,\n",
       " 585,\n",
       " 3761,\n",
       " 4105,\n",
       " 1802,\n",
       " 1512,\n",
       " 855,\n",
       " 1280,\n",
       " 1430,\n",
       " 1814,\n",
       " 2227,\n",
       " 716,\n",
       " 438,\n",
       " 4967,\n",
       " 3991,\n",
       " 3686,\n",
       " 4425,\n",
       " 511,\n",
       " 2091,\n",
       " 3502,\n",
       " 2734,\n",
       " 3798,\n",
       " 1505,\n",
       " 1982,\n",
       " 438,\n",
       " 4305,\n",
       " 396,\n",
       " 4967,\n",
       " 1502,\n",
       " 3512,\n",
       " 1116,\n",
       " 4994,\n",
       " 3,\n",
       " 4984,\n",
       " 585,\n",
       " 585,\n",
       " 696,\n",
       " 1080,\n",
       " 716,\n",
       " 4984,\n",
       " 585,\n",
       " 1534,\n",
       " 4140,\n",
       " 195,\n",
       " 438,\n",
       " 3439,\n",
       " 1869,\n",
       " 3810,\n",
       " 4470,\n",
       " 3069,\n",
       " 2329,\n",
       " 3224,\n",
       " 438,\n",
       " 3983,\n",
       " 2235,\n",
       " 2952,\n",
       " 2579,\n",
       " 3389,\n",
       " 1136,\n",
       " 278,\n",
       " 4743,\n",
       " 1116,\n",
       " 1965,\n",
       " 1804,\n",
       " 3847,\n",
       " 3164,\n",
       " 4373,\n",
       " 1866,\n",
       " 2074,\n",
       " 2781,\n",
       " 3208,\n",
       " 3389,\n",
       " 1116,\n",
       " 2781,\n",
       " 3177,\n",
       " 1139,\n",
       " 1505,\n",
       " 2227,\n",
       " 716,\n",
       " 438,\n",
       " 4967,\n",
       " 3212,\n",
       " 559,\n",
       " 925,\n",
       " 2786,\n",
       " 63,\n",
       " 3693,\n",
       " 880,\n",
       " 2030,\n",
       " 2008,\n",
       " 1100,\n",
       " 1100,\n",
       " 880,\n",
       " 2623,\n",
       " 2526,\n",
       " 1139,\n",
       " 1505,\n",
       " 2227,\n",
       " 716,\n",
       " 438,\n",
       " 4967,\n",
       " 2537,\n",
       " 4470,\n",
       " 3520,\n",
       " 1304,\n",
       " 1809,\n",
       " 2346,\n",
       " 568,\n",
       " 716,\n",
       " 4071,\n",
       " 3777,\n",
       " 1372,\n",
       " 1761,\n",
       " 1505,\n",
       " 1461,\n",
       " 1599,\n",
       " 585,\n",
       " 4211,\n",
       " 2227,\n",
       " 4844,\n",
       " 2986,\n",
       " 1139,\n",
       " 3675,\n",
       " 3792,\n",
       " 930,\n",
       " 4500,\n",
       " 1569,\n",
       " 1905,\n",
       " 1869,\n",
       " 1265,\n",
       " 716,\n",
       " 438,\n",
       " 3866,\n",
       " 585,\n",
       " 4117,\n",
       " 1968,\n",
       " 716,\n",
       " 4984,\n",
       " 562,\n",
       " 568,\n",
       " 3795,\n",
       " 1965,\n",
       " 4762,\n",
       " 4543,\n",
       " 716,\n",
       " 3507,\n",
       " 2644,\n",
       " 4790,\n",
       " 438,\n",
       " 696,\n",
       " 438,\n",
       " 2644,\n",
       " 2669,\n",
       " 716,\n",
       " 4984,\n",
       " 696,\n",
       " 3022,\n",
       " 1734,\n",
       " 4924,\n",
       " 3264,\n",
       " 2519,\n",
       " 495,\n",
       " 1139,\n",
       " 1372,\n",
       " 2623,\n",
       " 716,\n",
       " 2644,\n",
       " 3224,\n",
       " 4470,\n",
       " 2583,\n",
       " 1505,\n",
       " 4423,\n",
       " 2583,\n",
       " 2836,\n",
       " 1870,\n",
       " 1990,\n",
       " 4689,\n",
       " 2723,\n",
       " 3938,\n",
       " 124,\n",
       " 4874,\n",
       " 1762,\n",
       " 2096,\n",
       " 4211,\n",
       " 876,\n",
       " 124,\n",
       " 3938,\n",
       " 4892,\n",
       " 2781,\n",
       " 4445,\n",
       " 2174,\n",
       " 1573,\n",
       " 2447,\n",
       " 1788,\n",
       " 1220]"
      ]
     },
     "execution_count": 22,
     "metadata": {},
     "output_type": "execute_result"
    }
   ],
   "source": [
    "onehot_repr=[one_hot(words,voc_size)for words in corpus] \n",
    "onehot_repr[1]"
   ]
  },
  {
   "cell_type": "markdown",
   "id": "a0fc1178",
   "metadata": {
    "papermill": {
     "duration": 0.045632,
     "end_time": "2023-11-21T11:25:33.915146",
     "exception": false,
     "start_time": "2023-11-21T11:25:33.869514",
     "status": "completed"
    },
    "tags": []
   },
   "source": [
    "****Embedding Representation****"
   ]
  },
  {
   "cell_type": "code",
   "execution_count": 23,
   "id": "df8ed553",
   "metadata": {
    "papermill": {
     "duration": 0.176958,
     "end_time": "2023-11-21T11:25:34.136693",
     "exception": false,
     "start_time": "2023-11-21T11:25:33.959735",
     "status": "completed"
    },
    "tags": []
   },
   "outputs": [
    {
     "name": "stdout",
     "output_type": "stream",
     "text": [
      "[[4823 4071  585 ... 4048 3371 4098]\n",
      " [ 696 3022 1734 ... 2447 1788 1220]\n",
      " [   0    0    0 ... 1527 1316 1547]\n",
      " ...\n",
      " [3416 4816 1993 ... 2817   56  466]\n",
      " [3041  695 2789 ...  218 3847 4984]\n",
      " [4370  873 4048 ... 3483 1256 1661]]\n"
     ]
    }
   ],
   "source": [
    "sent_length=40\n",
    "embedded_docs=pad_sequences(onehot_repr,padding='pre',maxlen=sent_length)\n",
    "print(embedded_docs)"
   ]
  },
  {
   "cell_type": "code",
   "execution_count": 24,
   "id": "2a390a63",
   "metadata": {
    "papermill": {
     "duration": 0.052611,
     "end_time": "2023-11-21T11:25:34.233317",
     "exception": false,
     "start_time": "2023-11-21T11:25:34.180706",
     "status": "completed"
    },
    "tags": []
   },
   "outputs": [
    {
     "data": {
      "text/plain": [
       "array([4823, 4071,  585, 4513,  625, 3080, 2248,  679, 3512, 2204, 2824,\n",
       "       2824, 3512, 1865, 2329, 2992, 3512, 1489, 3512, 4360, 2871, 4211,\n",
       "       2715, 1993, 3938, 4105, 1869, 2143, 3808, 3317, 2141, 4913, 3017,\n",
       "       3399, 1880, 4559, 2102, 4048, 3371, 4098])"
      ]
     },
     "execution_count": 24,
     "metadata": {},
     "output_type": "execute_result"
    }
   ],
   "source": [
    "embedded_docs[0]"
   ]
  },
  {
   "cell_type": "code",
   "execution_count": null,
   "id": "24c4b686",
   "metadata": {
    "papermill": {
     "duration": 0.043934,
     "end_time": "2023-11-21T11:25:34.322230",
     "exception": false,
     "start_time": "2023-11-21T11:25:34.278296",
     "status": "completed"
    },
    "tags": []
   },
   "outputs": [],
   "source": []
  },
  {
   "cell_type": "code",
   "execution_count": 25,
   "id": "dccb8d31",
   "metadata": {
    "papermill": {
     "duration": 0.738564,
     "end_time": "2023-11-21T11:25:35.105065",
     "exception": false,
     "start_time": "2023-11-21T11:25:34.366501",
     "status": "completed"
    },
    "tags": []
   },
   "outputs": [
    {
     "name": "stdout",
     "output_type": "stream",
     "text": [
      "WARNING:tensorflow:From C:\\Users\\Anupam\\miniconda3\\Lib\\site-packages\\keras\\src\\backend.py:873: The name tf.get_default_graph is deprecated. Please use tf.compat.v1.get_default_graph instead.\n",
      "\n",
      "WARNING:tensorflow:From C:\\Users\\Anupam\\miniconda3\\Lib\\site-packages\\keras\\src\\optimizers\\__init__.py:309: The name tf.train.Optimizer is deprecated. Please use tf.compat.v1.train.Optimizer instead.\n",
      "\n",
      "Model: \"sequential\"\n",
      "_________________________________________________________________\n",
      " Layer (type)                Output Shape              Param #   \n",
      "=================================================================\n",
      " embedding (Embedding)       (None, 40, 50)            250000    \n",
      "                                                                 \n",
      " bidirectional (Bidirection  (None, 200)               120800    \n",
      " al)                                                             \n",
      "                                                                 \n",
      " dropout (Dropout)           (None, 200)               0         \n",
      "                                                                 \n",
      " dense (Dense)               (None, 1)                 201       \n",
      "                                                                 \n",
      "=================================================================\n",
      "Total params: 371001 (1.42 MB)\n",
      "Trainable params: 371001 (1.42 MB)\n",
      "Non-trainable params: 0 (0.00 Byte)\n",
      "_________________________________________________________________\n",
      "None\n"
     ]
    }
   ],
   "source": [
    "## Creating model\n",
    "embedding_vector_features=50\n",
    "model1=Sequential()\n",
    "model1.add(Embedding(voc_size,embedding_vector_features,input_length=sent_length))\n",
    "model1.add(Bidirectional(LSTM(100))) ##Just add bidirectional!!, except it would just behave as normal LSTM Model\n",
    "model1.add(Dropout(0.3))\n",
    "model1.add(Dense(1,activation='sigmoid'))\n",
    "model1.compile(loss='binary_crossentropy',optimizer='adam',metrics=['accuracy'])\n",
    "print(model1.summary())"
   ]
  },
  {
   "cell_type": "code",
   "execution_count": 26,
   "id": "d8139d58",
   "metadata": {
    "papermill": {
     "duration": 0.053337,
     "end_time": "2023-11-21T11:25:35.202884",
     "exception": false,
     "start_time": "2023-11-21T11:25:35.149547",
     "status": "completed"
    },
    "tags": []
   },
   "outputs": [
    {
     "data": {
      "text/plain": [
       "(15184, (15184,))"
      ]
     },
     "execution_count": 26,
     "metadata": {},
     "output_type": "execute_result"
    }
   ],
   "source": [
    "len(embedded_docs),y.shape"
   ]
  },
  {
   "cell_type": "code",
   "execution_count": 27,
   "id": "1ca97f55",
   "metadata": {
    "papermill": {
     "duration": 0.054803,
     "end_time": "2023-11-21T11:25:35.302418",
     "exception": false,
     "start_time": "2023-11-21T11:25:35.247615",
     "status": "completed"
    },
    "tags": []
   },
   "outputs": [],
   "source": [
    "import numpy as np\n",
    "X_final=np.array(embedded_docs)\n",
    "y_final=np.array(y)"
   ]
  },
  {
   "cell_type": "code",
   "execution_count": 28,
   "id": "8dc798ec",
   "metadata": {
    "papermill": {
     "duration": 0.053981,
     "end_time": "2023-11-21T11:25:35.402491",
     "exception": false,
     "start_time": "2023-11-21T11:25:35.348510",
     "status": "completed"
    },
    "tags": []
   },
   "outputs": [
    {
     "data": {
      "text/plain": [
       "array([4823, 4071,  585, 4513,  625, 3080, 2248,  679, 3512, 2204, 2824,\n",
       "       2824, 3512, 1865, 2329, 2992, 3512, 1489, 3512, 4360, 2871, 4211,\n",
       "       2715, 1993, 3938, 4105, 1869, 2143, 3808, 3317, 2141, 4913, 3017,\n",
       "       3399, 1880, 4559, 2102, 4048, 3371, 4098])"
      ]
     },
     "execution_count": 28,
     "metadata": {},
     "output_type": "execute_result"
    }
   ],
   "source": [
    "X_final[0]"
   ]
  },
  {
   "cell_type": "code",
   "execution_count": 29,
   "id": "cd601d3d",
   "metadata": {
    "papermill": {
     "duration": 0.058566,
     "end_time": "2023-11-21T11:25:35.506114",
     "exception": false,
     "start_time": "2023-11-21T11:25:35.447548",
     "status": "completed"
    },
    "tags": []
   },
   "outputs": [],
   "source": [
    "from sklearn.model_selection import train_test_split\n",
    "X_train, X_test, y_train, y_test = train_test_split(X_final, y_final, test_size=0.25, random_state=32)\n",
    "# from sklearn.model_selection import train_test_split\n",
    "# X_train, X_test, y_train, y_test = train_test_split(X_final, y_final, test_size=0.25, random_state=32)"
   ]
  },
  {
   "cell_type": "code",
   "execution_count": 30,
   "id": "ac1122e6",
   "metadata": {
    "papermill": {
     "duration": 148.518068,
     "end_time": "2023-11-21T11:28:04.069815",
     "exception": false,
     "start_time": "2023-11-21T11:25:35.551747",
     "status": "completed"
    },
    "tags": []
   },
   "outputs": [
    {
     "name": "stdout",
     "output_type": "stream",
     "text": [
      "Epoch 1/12\n",
      "WARNING:tensorflow:From C:\\Users\\Anupam\\miniconda3\\Lib\\site-packages\\keras\\src\\utils\\tf_utils.py:492: The name tf.ragged.RaggedTensorValue is deprecated. Please use tf.compat.v1.ragged.RaggedTensorValue instead.\n",
      "\n",
      "WARNING:tensorflow:From C:\\Users\\Anupam\\miniconda3\\Lib\\site-packages\\keras\\src\\engine\\base_layer_utils.py:384: The name tf.executing_eagerly_outside_functions is deprecated. Please use tf.compat.v1.executing_eagerly_outside_functions instead.\n",
      "\n",
      "178/178 [==============================] - 26s 103ms/step - loss: 0.1898 - accuracy: 0.9566 - val_loss: 0.1531 - val_accuracy: 0.9602\n",
      "Epoch 2/12\n",
      "178/178 [==============================] - 14s 81ms/step - loss: 0.0847 - accuracy: 0.9754 - val_loss: 0.1342 - val_accuracy: 0.9647\n",
      "Epoch 3/12\n",
      "178/178 [==============================] - 16s 89ms/step - loss: 0.0597 - accuracy: 0.9832 - val_loss: 0.1323 - val_accuracy: 0.9650\n",
      "Epoch 4/12\n",
      "178/178 [==============================] - 15s 84ms/step - loss: 0.0405 - accuracy: 0.9893 - val_loss: 0.1354 - val_accuracy: 0.9687\n",
      "Epoch 5/12\n",
      "178/178 [==============================] - 21s 116ms/step - loss: 0.0300 - accuracy: 0.9924 - val_loss: 0.1412 - val_accuracy: 0.9652\n",
      "Epoch 6/12\n",
      "178/178 [==============================] - 21s 119ms/step - loss: 0.0251 - accuracy: 0.9933 - val_loss: 0.1605 - val_accuracy: 0.9652\n",
      "Epoch 7/12\n",
      "178/178 [==============================] - 18s 101ms/step - loss: 0.0181 - accuracy: 0.9951 - val_loss: 0.1956 - val_accuracy: 0.9676\n",
      "Epoch 8/12\n",
      "178/178 [==============================] - 26s 148ms/step - loss: 0.0130 - accuracy: 0.9963 - val_loss: 0.1992 - val_accuracy: 0.9644\n",
      "Epoch 9/12\n",
      "178/178 [==============================] - 24s 134ms/step - loss: 0.0128 - accuracy: 0.9958 - val_loss: 0.2222 - val_accuracy: 0.9589\n",
      "Epoch 10/12\n",
      "178/178 [==============================] - 27s 154ms/step - loss: 0.0065 - accuracy: 0.9985 - val_loss: 0.2341 - val_accuracy: 0.9679\n",
      "Epoch 11/12\n",
      "178/178 [==============================] - 18s 98ms/step - loss: 0.0047 - accuracy: 0.9988 - val_loss: 0.2375 - val_accuracy: 0.9671\n",
      "Epoch 12/12\n",
      "178/178 [==============================] - 19s 109ms/step - loss: 0.0067 - accuracy: 0.9980 - val_loss: 0.2265 - val_accuracy: 0.9592\n"
     ]
    },
    {
     "data": {
      "text/plain": [
       "<keras.src.callbacks.History at 0x15b87223050>"
      ]
     },
     "execution_count": 30,
     "metadata": {},
     "output_type": "execute_result"
    }
   ],
   "source": [
    "model1.fit(X_train,y_train,validation_data=(X_test,y_test),epochs=12,batch_size=64)"
   ]
  },
  {
   "cell_type": "markdown",
   "id": "5c44410c",
   "metadata": {
    "papermill": {
     "duration": 0.672255,
     "end_time": "2023-11-21T11:28:05.424117",
     "exception": false,
     "start_time": "2023-11-21T11:28:04.751862",
     "status": "completed"
    },
    "tags": []
   },
   "source": [
    "**Model Performance and Accuracy**"
   ]
  },
  {
   "cell_type": "code",
   "execution_count": 31,
   "id": "243a4131",
   "metadata": {
    "papermill": {
     "duration": 1.881095,
     "end_time": "2023-11-21T11:28:07.966543",
     "exception": false,
     "start_time": "2023-11-21T11:28:06.085448",
     "status": "completed"
    },
    "tags": []
   },
   "outputs": [
    {
     "name": "stdout",
     "output_type": "stream",
     "text": [
      "119/119 [==============================] - 3s 23ms/step - loss: 0.2265 - accuracy: 0.9592\n"
     ]
    },
    {
     "data": {
      "text/plain": [
       "[0.2264743149280548, 0.9591675400733948]"
      ]
     },
     "execution_count": 31,
     "metadata": {},
     "output_type": "execute_result"
    }
   ],
   "source": [
    "model1.evaluate(X_test, y_test)"
   ]
  },
  {
   "cell_type": "code",
   "execution_count": 32,
   "id": "7a0a2d37",
   "metadata": {
    "papermill": {
     "duration": 2.458936,
     "end_time": "2023-11-21T11:28:11.103010",
     "exception": false,
     "start_time": "2023-11-21T11:28:08.644074",
     "status": "completed"
    },
    "tags": []
   },
   "outputs": [
    {
     "name": "stdout",
     "output_type": "stream",
     "text": [
      "119/119 [==============================] - 5s 22ms/step\n"
     ]
    }
   ],
   "source": [
    "#Do predicton on test set\n",
    "y_pred=model1.predict(X_test)"
   ]
  },
  {
   "cell_type": "code",
   "execution_count": 33,
   "id": "24e024c8",
   "metadata": {
    "papermill": {
     "duration": 0.714351,
     "end_time": "2023-11-21T11:28:12.504099",
     "exception": false,
     "start_time": "2023-11-21T11:28:11.789748",
     "status": "completed"
    },
    "tags": []
   },
   "outputs": [
    {
     "name": "stdout",
     "output_type": "stream",
     "text": [
      "[[6.8194158e-03]\n",
      " [8.8953802e-06]\n",
      " [1.0521443e-05]\n",
      " ...\n",
      " [2.4271091e-03]\n",
      " [3.9099189e-04]\n",
      " [2.9470472e-04]]\n",
      "[0 0 0 ... 0 0 0]\n"
     ]
    }
   ],
   "source": [
    "print(y_pred)\n",
    "\n",
    "print(y_test)"
   ]
  },
  {
   "cell_type": "code",
   "execution_count": 34,
   "id": "c98b10ee",
   "metadata": {
    "papermill": {
     "duration": 0.838238,
     "end_time": "2023-11-21T11:28:14.050658",
     "exception": false,
     "start_time": "2023-11-21T11:28:13.212420",
     "status": "completed"
    },
    "tags": []
   },
   "outputs": [],
   "source": [
    "from sklearn.metrics import confusion_matrix, f1_score, recall_score, precision_score, classification_report, accuracy_score\n",
    "import seaborn as sns"
   ]
  },
  {
   "cell_type": "code",
   "execution_count": 35,
   "id": "6a6e3fb1",
   "metadata": {
    "papermill": {
     "duration": 0.700562,
     "end_time": "2023-11-21T11:28:15.423383",
     "exception": false,
     "start_time": "2023-11-21T11:28:14.722821",
     "status": "completed"
    },
    "tags": []
   },
   "outputs": [
    {
     "name": "stdout",
     "output_type": "stream",
     "text": [
      "Accuracy  95.9 %\n",
      "Recall Score  58.1 %\n",
      "Precision Score  62.8 %\n",
      "F1 Score  60.4 %\n"
     ]
    }
   ],
   "source": [
    "preds_y = [1 if x >=0.5 else 0 for x in y_pred]\n",
    "print(\"Accuracy  {:.3} %\".format(accuracy_score(y_test, preds_y)*100))\n",
    "print(\"Recall Score  {:.3} %\".format(recall_score(y_test, preds_y)*100))\n",
    "print(\"Precision Score  {:.3} %\".format(precision_score(y_test, preds_y)*100))\n",
    "print(\"F1 Score  {:.3} %\".format(f1_score(y_test, preds_y)*100))"
   ]
  },
  {
   "cell_type": "code",
   "execution_count": 36,
   "id": "0d0467e4",
   "metadata": {
    "papermill": {
     "duration": 0.697323,
     "end_time": "2023-11-21T11:28:16.849146",
     "exception": false,
     "start_time": "2023-11-21T11:28:16.151823",
     "status": "completed"
    },
    "tags": []
   },
   "outputs": [
    {
     "name": "stdout",
     "output_type": "stream",
     "text": [
      "              precision    recall  f1-score   support\n",
      "\n",
      "           0       0.98      0.98      0.98      3593\n",
      "           1       0.63      0.58      0.60       203\n",
      "\n",
      "    accuracy                           0.96      3796\n",
      "   macro avg       0.80      0.78      0.79      3796\n",
      "weighted avg       0.96      0.96      0.96      3796\n",
      "\n"
     ]
    }
   ],
   "source": [
    "print(classification_report(y_test, preds_y))"
   ]
  },
  {
   "cell_type": "code",
   "execution_count": 37,
   "id": "4b24da18",
   "metadata": {
    "papermill": {
     "duration": 0.957477,
     "end_time": "2023-11-21T11:28:18.486722",
     "exception": false,
     "start_time": "2023-11-21T11:28:17.529245",
     "status": "completed"
    },
    "tags": []
   },
   "outputs": [
    {
     "data": {
      "text/plain": [
       "<Axes: >"
      ]
     },
     "execution_count": 37,
     "metadata": {},
     "output_type": "execute_result"
    },
    {
     "data": {
      "image/png": "[encoded data removed]",
      "text/plain": [
       "<Figure size 640x480 with 2 Axes>"
      ]
     },
     "metadata": {},
     "output_type": "display_data"
    }
   ],
   "source": [
    "cm = confusion_matrix(y_test, preds_y)\n",
    "\n",
    "sns.heatmap(cm, annot=True, fmt=\"\")"
   ]
  },
  {
   "cell_type": "code",
   "execution_count": 38,
   "id": "c6a5b9ec",
   "metadata": {
    "papermill": {
     "duration": 0.688264,
     "end_time": "2023-11-21T11:28:19.848826",
     "exception": false,
     "start_time": "2023-11-21T11:28:19.160562",
     "status": "completed"
    },
    "tags": []
   },
   "outputs": [],
   "source": [
    "#SVM, NB"
   ]
  },
  {
   "cell_type": "markdown",
   "id": "ac715dc3",
   "metadata": {
    "papermill": {
     "duration": 0.677896,
     "end_time": "2023-11-21T11:28:21.201186",
     "exception": false,
     "start_time": "2023-11-21T11:28:20.523290",
     "status": "completed"
    },
    "tags": []
   },
   "source": [
    "## GRU"
   ]
  },
  {
   "cell_type": "code",
   "execution_count": 39,
   "id": "7c4cdabb",
   "metadata": {
    "papermill": {
     "duration": 0.715582,
     "end_time": "2023-11-21T11:28:22.592070",
     "exception": false,
     "start_time": "2023-11-21T11:28:21.876488",
     "status": "completed"
    },
    "tags": []
   },
   "outputs": [],
   "source": [
    "model2 = Sequential()\n",
    "model2.add(Embedding(input_dim=voc_size,\n",
    "output_dim=embedding_vector_features,\n",
    "input_length=sent_length))"
   ]
  },
  {
   "cell_type": "code",
   "execution_count": 40,
   "id": "b01d1b82",
   "metadata": {
    "papermill": {
     "duration": 1.339904,
     "end_time": "2023-11-21T11:28:24.604176",
     "exception": false,
     "start_time": "2023-11-21T11:28:23.264272",
     "status": "completed"
    },
    "tags": []
   },
   "outputs": [
    {
     "name": "stdout",
     "output_type": "stream",
     "text": [
      "Model: \"sequential\"\n",
      "_________________________________________________________________\n",
      " Layer (type)                Output Shape              Param #   \n",
      "=================================================================\n",
      " embedding (Embedding)       (None, 40, 50)            250000    \n",
      "                                                                 \n",
      " bidirectional (Bidirection  (None, 200)               120800    \n",
      " al)                                                             \n",
      "                                                                 \n",
      " dropout (Dropout)           (None, 200)               0         \n",
      "                                                                 \n",
      " dense (Dense)               (None, 1)                 201       \n",
      "                                                                 \n",
      "=================================================================\n",
      "Total params: 371001 (1.42 MB)\n",
      "Trainable params: 371001 (1.42 MB)\n",
      "Non-trainable params: 0 (0.00 Byte)\n",
      "_________________________________________________________________\n",
      "None\n"
     ]
    }
   ],
   "source": [
    "## Creating model\n",
    "embedding_vector_features=50\n",
    "model2=Sequential()\n",
    "model2.add(Embedding(voc_size,embedding_vector_features,input_length=sent_length))\n",
    "model2.add(GRU(units=16, return_sequences=True))\n",
    "model2.add(GRU(units=8, return_sequences=True))\n",
    "model2.add(GRU(units=4))\n",
    "model2.add(Dense(1,activation='sigmoid'))\n",
    "model2.compile(loss='binary_crossentropy',optimizer='adam',metrics=['accuracy'])\n",
    "print(model1.summary())"
   ]
  },
  {
   "cell_type": "code",
   "execution_count": 41,
   "id": "37b9c109",
   "metadata": {
    "papermill": {
     "duration": 49.257387,
     "end_time": "2023-11-21T11:29:14.539190",
     "exception": false,
     "start_time": "2023-11-21T11:28:25.281803",
     "status": "completed"
    },
    "tags": []
   },
   "outputs": [
    {
     "name": "stdout",
     "output_type": "stream",
     "text": [
      "Epoch 1/5\n",
      "178/178 [==============================] - 38s 117ms/step - loss: 0.3018 - accuracy: 0.9519 - val_loss: 0.2227 - val_accuracy: 0.9465\n",
      "Epoch 2/5\n",
      "178/178 [==============================] - 18s 103ms/step - loss: 0.1935 - accuracy: 0.9553 - val_loss: 0.2103 - val_accuracy: 0.9465\n",
      "Epoch 3/5\n",
      "178/178 [==============================] - 18s 102ms/step - loss: 0.1769 - accuracy: 0.9577 - val_loss: 0.1874 - val_accuracy: 0.9531\n",
      "Epoch 4/5\n",
      "178/178 [==============================] - 19s 108ms/step - loss: 0.1440 - accuracy: 0.9668 - val_loss: 0.1657 - val_accuracy: 0.9589\n",
      "Epoch 5/5\n",
      "178/178 [==============================] - 19s 106ms/step - loss: 0.1145 - accuracy: 0.9735 - val_loss: 0.1573 - val_accuracy: 0.9610\n"
     ]
    },
    {
     "data": {
      "text/plain": [
       "<keras.src.callbacks.History at 0x15b94757ad0>"
      ]
     },
     "execution_count": 41,
     "metadata": {},
     "output_type": "execute_result"
    }
   ],
   "source": [
    "model2.fit(X_train,y_train,validation_data=(X_test,y_test),epochs=5,batch_size=64)"
   ]
  },
  {
   "cell_type": "code",
   "execution_count": 42,
   "id": "487ddd70",
   "metadata": {
    "papermill": {
     "duration": 1.997168,
     "end_time": "2023-11-21T11:29:17.361802",
     "exception": false,
     "start_time": "2023-11-21T11:29:15.364634",
     "status": "completed"
    },
    "tags": []
   },
   "outputs": [
    {
     "name": "stdout",
     "output_type": "stream",
     "text": [
      "119/119 [==============================] - 3s 27ms/step - loss: 0.1573 - accuracy: 0.9610\n"
     ]
    },
    {
     "data": {
      "text/plain": [
       "[0.15727968513965607, 0.9610115885734558]"
      ]
     },
     "execution_count": 42,
     "metadata": {},
     "output_type": "execute_result"
    }
   ],
   "source": [
    "model2.evaluate(X_test, y_test)"
   ]
  },
  {
   "cell_type": "code",
   "execution_count": 43,
   "id": "79d880fd",
   "metadata": {
    "papermill": {
     "duration": 2.663438,
     "end_time": "2023-11-21T11:29:20.856595",
     "exception": false,
     "start_time": "2023-11-21T11:29:18.193157",
     "status": "completed"
    },
    "tags": []
   },
   "outputs": [
    {
     "name": "stdout",
     "output_type": "stream",
     "text": [
      "119/119 [==============================] - 6s 24ms/step\n"
     ]
    }
   ],
   "source": [
    "#Do predicton on test set\n",
    "y_pred=model2.predict(X_test)"
   ]
  },
  {
   "cell_type": "code",
   "execution_count": 44,
   "id": "1a8e8d86",
   "metadata": {
    "papermill": {
     "duration": 0.866841,
     "end_time": "2023-11-21T11:29:22.549368",
     "exception": false,
     "start_time": "2023-11-21T11:29:21.682527",
     "status": "completed"
    },
    "tags": []
   },
   "outputs": [
    {
     "name": "stdout",
     "output_type": "stream",
     "text": [
      "[[0.03055992]\n",
      " [0.03295703]\n",
      " [0.02983019]\n",
      " ...\n",
      " [0.03153487]\n",
      " [0.18087207]\n",
      " [0.02986868]]\n",
      "[0 0 0 ... 0 0 0]\n"
     ]
    }
   ],
   "source": [
    "print(y_pred)\n",
    "\n",
    "print(y_test)"
   ]
  },
  {
   "cell_type": "code",
   "execution_count": 45,
   "id": "3635a5e2",
   "metadata": {
    "papermill": {
     "duration": 0.849007,
     "end_time": "2023-11-21T11:29:24.217907",
     "exception": false,
     "start_time": "2023-11-21T11:29:23.368900",
     "status": "completed"
    },
    "tags": []
   },
   "outputs": [
    {
     "name": "stdout",
     "output_type": "stream",
     "text": [
      "Accuracy  96.1 %\n",
      "Recall Score  31.5 %\n",
      "Precision Score  87.7 %\n",
      "F1 Score  46.4 %\n"
     ]
    }
   ],
   "source": [
    "preds_y = [1 if x >=0.5 else 0 for x in y_pred]\n",
    "print(\"Accuracy  {:.3} %\".format(accuracy_score(y_test, preds_y)*100))\n",
    "print(\"Recall Score  {:.3} %\".format(recall_score(y_test, preds_y)*100))\n",
    "print(\"Precision Score  {:.3} %\".format(precision_score(y_test, preds_y)*100))\n",
    "print(\"F1 Score  {:.3} %\".format(f1_score(y_test, preds_y)*100))"
   ]
  },
  {
   "cell_type": "code",
   "execution_count": 46,
   "id": "2eb76858",
   "metadata": {
    "papermill": {
     "duration": 0.845017,
     "end_time": "2023-11-21T11:29:25.896766",
     "exception": false,
     "start_time": "2023-11-21T11:29:25.051749",
     "status": "completed"
    },
    "tags": []
   },
   "outputs": [
    {
     "name": "stdout",
     "output_type": "stream",
     "text": [
      "              precision    recall  f1-score   support\n",
      "\n",
      "           0       0.96      1.00      0.98      3593\n",
      "           1       0.88      0.32      0.46       203\n",
      "\n",
      "    accuracy                           0.96      3796\n",
      "   macro avg       0.92      0.66      0.72      3796\n",
      "weighted avg       0.96      0.96      0.95      3796\n",
      "\n"
     ]
    }
   ],
   "source": [
    "print(classification_report(y_test, preds_y))"
   ]
  },
  {
   "cell_type": "code",
   "execution_count": 50,
   "id": "4343e0b0-65bd-454f-a4a1-5f728d8a669e",
   "metadata": {
    "papermill": {
     "duration": 0.845017,
     "end_time": "2023-11-21T11:29:25.896766",
     "exception": false,
     "start_time": "2023-11-21T11:29:25.051749",
     "status": "completed"
    },
    "tags": []
   },
   "outputs": [
    {
     "data": {
      "text/plain": [
       "['C:/Users/Anupam/Desktop/model1.pkl']"
      ]
     },
     "execution_count": 50,
     "metadata": {},
     "output_type": "execute_result"
    }
   ],
   "source": [
    "#pip install joblib\n",
    "from joblib import dump\n",
    "\n",
    "# Assuming 'model' is your trained machine learning model\n",
    "model_path = 'model1.pkl'\n",
    "dump(model1, 'C:/Users/Anupam/Desktop/model1.pkl')\n"
   ]
  },
  {
   "cell_type": "code",
   "execution_count": 51,
   "id": "7122473e-ea71-47d0-8127-a6b89fe7be0b",
   "metadata": {},
   "outputs": [
    {
     "data": {
      "text/plain": [
       "['C:/Users/Anupam/Desktop/model2.pkl']"
      ]
     },
     "execution_count": 51,
     "metadata": {},
     "output_type": "execute_result"
    }
   ],
   "source": [
    "from joblib import dump\n",
    "\n",
    "# Assuming 'model' is your trained machine learning model\n",
    "model_path = 'model2.pkl'\n",
    "dump(model1, 'C:/Users/Anupam/Desktop/model2.pkl')\n"
   ]
  },
  {
   "cell_type": "code",
   "execution_count": 52,
   "id": "c1e1e036-fe2a-426f-9fda-36fe6e23cad4",
   "metadata": {},
   "outputs": [
    {
     "data": {
      "text/plain": [
       "['C:/Users/Anupam/Desktop/model3.pkl']"
      ]
     },
     "execution_count": 52,
     "metadata": {},
     "output_type": "execute_result"
    }
   ],
   "source": [
    "from joblib import dump\n",
    "\n",
    "# Assuming 'model' is your trained machine learning model\n",
    "model_path = 'model3.pkl'\n",
    "dump(model1, 'C:/Users/Anupam/Desktop/model3.pkl')\n"
   ]
  },
  {
   "cell_type": "code",
   "execution_count": null,
   "id": "1833bdc4-9d22-4167-a5a7-a22f38294340",
   "metadata": {},
   "outputs": [],
   "source": []
  }
 ],
 "metadata": {
  "kaggle": {
   "accelerator": "none",
   "dataSources": [
    {
     "datasetId": 533871,
     "sourceId": 976879,
     "sourceType": "datasetVersion"
    }
   ],
   "dockerImageVersionId": 30129,
   "isGpuEnabled": false,
   "isInternetEnabled": false,
   "language": "python",
   "sourceType": "notebook"
  },
  "kernelspec": {
   "display_name": "Python 3 (ipykernel)",
   "language": "python",
   "name": "python3"
  },
  "language_info": {
   "codemirror_mode": {
    "name": "ipython",
    "version": 3
   },
   "file_extension": ".py",
   "mimetype": "text/x-python",
   "name": "python",
   "nbconvert_exporter": "python",
   "pygments_lexer": "ipython3",
   "version": "3.11.5"
  },
  "papermill": {
   "default_parameters": {},
   "duration": 715.347826,
   "end_time": "2023-11-21T11:29:30.242080",
   "environment_variables": {},
   "exception": null,
   "input_path": "__notebook__.ipynb",
   "output_path": "__notebook__.ipynb",
   "parameters": {},
   "start_time": "2023-11-21T11:17:34.894254",
   "version": "2.3.3"
  }
 },
 "nbformat": 4,
 "nbformat_minor": 5
}
